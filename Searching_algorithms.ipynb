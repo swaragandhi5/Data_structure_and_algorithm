{
  "nbformat": 4,
  "nbformat_minor": 0,
  "metadata": {
    "colab": {
      "provenance": []
    },
    "kernelspec": {
      "name": "python3",
      "display_name": "Python 3"
    },
    "language_info": {
      "name": "python"
    }
  },
  "cells": [
    {
      "cell_type": "markdown",
      "source": [
        "QUESTION 1: Alice has some cards with numbers written on them. She arranges the cards in decreasing order, and lays them out face down in a sequence on a table. She challenges Bob to pick out the card containing a given number by turning over as few cards as possible. Write a function to help Bob locate the card.\n",
        "\n"
      ],
      "metadata": {
        "id": "F4cmG05HG82j"
      }
    },
    {
      "cell_type": "markdown",
      "source": [
        "We need to write a program to find the position of a given number in a list of numbers arranged in decreasing order. We also need to minimize the number of times we access elements from the list.\n",
        "\n",
        "Input\n",
        "\n",
        "\n",
        "cards: A list of numbers sorted in decreasing order. E.g. [13, 11, 10, 7, 4, 3, 1, 0]\n",
        "\n",
        "\n",
        "query: A number, whose position in the array is to be determined. E.g. 7\n",
        "Output\n",
        "\n",
        "\n",
        "position: The position of query in the list cards. E.g. 3 in the above case (counting from 0)"
      ],
      "metadata": {
        "id": "lA4ICxdoHF5U"
      }
    },
    {
      "cell_type": "markdown",
      "source": [
        "## Linear/Sequential search \n",
        "This is a brute force method for this problem.  \n"
      ],
      "metadata": {
        "id": "frWhft1BL4F_"
      }
    },
    {
      "cell_type": "code",
      "source": [
        "def locate_card(cards,query):\n",
        "  for i in range(len(cards)):\n",
        "    if cards[i] == query:\n",
        "      return i\n",
        "    else:\n",
        "      print(\"Not found\")#this shows the number of time the value from card has been accessed \n",
        "  return -1\n",
        "\n",
        "cards = [13,11,10,10,7,4,3,1,0]\n",
        "query = 10\n",
        "\n",
        "position = locate_card(cards,query)\n",
        "print(position)"
      ],
      "metadata": {
        "colab": {
          "base_uri": "https://localhost:8080/"
        },
        "id": "memYaKBQIm_P",
        "outputId": "28e0e56d-3406-4309-94db-43cfad0b184e"
      },
      "execution_count": 20,
      "outputs": [
        {
          "output_type": "stream",
          "name": "stdout",
          "text": [
            "Not found\n",
            "Not found\n",
            "2\n"
          ]
        }
      ]
    },
    {
      "cell_type": "markdown",
      "source": [
        "## Binary Search\n"
      ],
      "metadata": {
        "id": "zVszsdsLMNuQ"
      }
    },
    {
      "cell_type": "code",
      "source": [
        "def locate_card(cards,query):\n",
        "  left = 0\n",
        "  right = len(cards) - 1\n",
        "  \n",
        "  while left <= right:\n",
        "    mid = (right + left) // 2\n",
        "    mid_value = cards[mid]\n",
        "    if mid_value == query:\n",
        "      return mid\n",
        "    elif query < mid_value:\n",
        "      left = mid + 1\n",
        "    else:\n",
        "      right = mid - 1 \n",
        "  return None\n",
        "       \n",
        "\n",
        "cards = [13,11,10,7,4,3,1,0]\n",
        "query = 13\n",
        "\n",
        "position = locate_card(cards,query)\n",
        "print(\"Final position of Query is:\",position)"
      ],
      "metadata": {
        "colab": {
          "base_uri": "https://localhost:8080/"
        },
        "id": "rSaR49QwLrXA",
        "outputId": "d9da688b-4604-4a2f-b2c9-90251ded7683"
      },
      "execution_count": 3,
      "outputs": [
        {
          "output_type": "stream",
          "name": "stdout",
          "text": [
            "Final position of Query is: 0\n"
          ]
        }
      ]
    },
    {
      "cell_type": "code",
      "source": [],
      "metadata": {
        "id": "h1Z8jgyhXgzr"
      },
      "execution_count": null,
      "outputs": []
    }
  ]
}